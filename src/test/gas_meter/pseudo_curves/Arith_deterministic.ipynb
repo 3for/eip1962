{
 "cells": [
  {
   "cell_type": "code",
   "execution_count": 1,
   "metadata": {},
   "outputs": [
    {
     "data": {
      "text/html": [
       "<div>\n",
       "<style scoped>\n",
       "    .dataframe tbody tr th:only-of-type {\n",
       "        vertical-align: middle;\n",
       "    }\n",
       "\n",
       "    .dataframe tbody tr th {\n",
       "        vertical-align: top;\n",
       "    }\n",
       "\n",
       "    .dataframe thead th {\n",
       "        text-align: right;\n",
       "    }\n",
       "</style>\n",
       "<table border=\"1\" class=\"dataframe\">\n",
       "  <thead>\n",
       "    <tr style=\"text-align: right;\">\n",
       "      <th></th>\n",
       "      <th>modulus_limbs</th>\n",
       "      <th>group_limbs</th>\n",
       "      <th>num_mul_pairs</th>\n",
       "      <th>a_is_zero</th>\n",
       "      <th>ext_degree</th>\n",
       "      <th>run_microseconds_add</th>\n",
       "      <th>run_microseconds_mul</th>\n",
       "      <th>run_microseconds_multiexp</th>\n",
       "    </tr>\n",
       "  </thead>\n",
       "  <tbody>\n",
       "    <tr>\n",
       "      <th>0</th>\n",
       "      <td>4</td>\n",
       "      <td>1</td>\n",
       "      <td>128</td>\n",
       "      <td>0</td>\n",
       "      <td>1</td>\n",
       "      <td>85</td>\n",
       "      <td>160</td>\n",
       "      <td>2140</td>\n",
       "    </tr>\n",
       "    <tr>\n",
       "      <th>1</th>\n",
       "      <td>4</td>\n",
       "      <td>1</td>\n",
       "      <td>64</td>\n",
       "      <td>0</td>\n",
       "      <td>1</td>\n",
       "      <td>60</td>\n",
       "      <td>160</td>\n",
       "      <td>1288</td>\n",
       "    </tr>\n",
       "    <tr>\n",
       "      <th>2</th>\n",
       "      <td>4</td>\n",
       "      <td>1</td>\n",
       "      <td>32</td>\n",
       "      <td>0</td>\n",
       "      <td>1</td>\n",
       "      <td>91</td>\n",
       "      <td>157</td>\n",
       "      <td>836</td>\n",
       "    </tr>\n",
       "    <tr>\n",
       "      <th>3</th>\n",
       "      <td>4</td>\n",
       "      <td>1</td>\n",
       "      <td>16</td>\n",
       "      <td>0</td>\n",
       "      <td>1</td>\n",
       "      <td>55</td>\n",
       "      <td>187</td>\n",
       "      <td>679</td>\n",
       "    </tr>\n",
       "    <tr>\n",
       "      <th>4</th>\n",
       "      <td>4</td>\n",
       "      <td>1</td>\n",
       "      <td>8</td>\n",
       "      <td>0</td>\n",
       "      <td>1</td>\n",
       "      <td>66</td>\n",
       "      <td>171</td>\n",
       "      <td>392</td>\n",
       "    </tr>\n",
       "  </tbody>\n",
       "</table>\n",
       "</div>"
      ],
      "text/plain": [
       "   modulus_limbs  group_limbs  num_mul_pairs  a_is_zero  ext_degree  \\\n",
       "0              4            1            128          0           1   \n",
       "1              4            1             64          0           1   \n",
       "2              4            1             32          0           1   \n",
       "3              4            1             16          0           1   \n",
       "4              4            1              8          0           1   \n",
       "\n",
       "   run_microseconds_add  run_microseconds_mul  run_microseconds_multiexp  \n",
       "0                    85                   160                       2140  \n",
       "1                    60                   160                       1288  \n",
       "2                    91                   157                        836  \n",
       "3                    55                   187                        679  \n",
       "4                    66                   171                        392  "
      ]
     },
     "execution_count": 1,
     "metadata": {},
     "output_type": "execute_result"
    }
   ],
   "source": [
    "import pandas as pd\n",
    "from sklearn.preprocessing import PolynomialFeatures\n",
    "from sklearn.linear_model import LinearRegression\n",
    "from sklearn.pipeline import Pipeline\n",
    "import numpy as np\n",
    "import math\n",
    "\n",
    "gas_factor = 15\n",
    "\n",
    "file_list = (\"Arith\", \"./monte_carlo_arith_deterministic.csv\")\n",
    "\n",
    "def get_df(file):\n",
    "    (name, path) = file;\n",
    "    df = pd.read_csv(path)\n",
    "        \n",
    "    return df\n",
    "\n",
    "data = get_df(file_list)\n",
    "\n",
    "data.head()"
   ]
  },
  {
   "cell_type": "code",
   "execution_count": 2,
   "metadata": {},
   "outputs": [
    {
     "data": {
      "text/html": [
       "<div>\n",
       "<style scoped>\n",
       "    .dataframe tbody tr th:only-of-type {\n",
       "        vertical-align: middle;\n",
       "    }\n",
       "\n",
       "    .dataframe tbody tr th {\n",
       "        vertical-align: top;\n",
       "    }\n",
       "\n",
       "    .dataframe thead th {\n",
       "        text-align: right;\n",
       "    }\n",
       "</style>\n",
       "<table border=\"1\" class=\"dataframe\">\n",
       "  <thead>\n",
       "    <tr style=\"text-align: right;\">\n",
       "      <th></th>\n",
       "      <th>modulus_limbs</th>\n",
       "      <th>group_limbs</th>\n",
       "      <th>num_mul_pairs</th>\n",
       "      <th>a_is_zero</th>\n",
       "      <th>ext_degree</th>\n",
       "      <th>run_microseconds_add</th>\n",
       "      <th>run_microseconds_mul</th>\n",
       "      <th>run_microseconds_multiexp</th>\n",
       "    </tr>\n",
       "  </thead>\n",
       "  <tbody>\n",
       "    <tr>\n",
       "      <th>0</th>\n",
       "      <td>4</td>\n",
       "      <td>1</td>\n",
       "      <td>128</td>\n",
       "      <td>0</td>\n",
       "      <td>1</td>\n",
       "      <td>85</td>\n",
       "      <td>160</td>\n",
       "      <td>2140</td>\n",
       "    </tr>\n",
       "    <tr>\n",
       "      <th>1</th>\n",
       "      <td>4</td>\n",
       "      <td>1</td>\n",
       "      <td>64</td>\n",
       "      <td>0</td>\n",
       "      <td>1</td>\n",
       "      <td>60</td>\n",
       "      <td>160</td>\n",
       "      <td>1288</td>\n",
       "    </tr>\n",
       "    <tr>\n",
       "      <th>2</th>\n",
       "      <td>4</td>\n",
       "      <td>1</td>\n",
       "      <td>32</td>\n",
       "      <td>0</td>\n",
       "      <td>1</td>\n",
       "      <td>91</td>\n",
       "      <td>157</td>\n",
       "      <td>836</td>\n",
       "    </tr>\n",
       "    <tr>\n",
       "      <th>3</th>\n",
       "      <td>4</td>\n",
       "      <td>1</td>\n",
       "      <td>16</td>\n",
       "      <td>0</td>\n",
       "      <td>1</td>\n",
       "      <td>55</td>\n",
       "      <td>187</td>\n",
       "      <td>679</td>\n",
       "    </tr>\n",
       "    <tr>\n",
       "      <th>4</th>\n",
       "      <td>4</td>\n",
       "      <td>1</td>\n",
       "      <td>8</td>\n",
       "      <td>0</td>\n",
       "      <td>1</td>\n",
       "      <td>66</td>\n",
       "      <td>171</td>\n",
       "      <td>392</td>\n",
       "    </tr>\n",
       "  </tbody>\n",
       "</table>\n",
       "</div>"
      ],
      "text/plain": [
       "   modulus_limbs  group_limbs  num_mul_pairs  a_is_zero  ext_degree  \\\n",
       "0              4            1            128          0           1   \n",
       "1              4            1             64          0           1   \n",
       "2              4            1             32          0           1   \n",
       "3              4            1             16          0           1   \n",
       "4              4            1              8          0           1   \n",
       "\n",
       "   run_microseconds_add  run_microseconds_mul  run_microseconds_multiexp  \n",
       "0                    85                   160                       2140  \n",
       "1                    60                   160                       1288  \n",
       "2                    91                   157                        836  \n",
       "3                    55                   187                        679  \n",
       "4                    66                   171                        392  "
      ]
     },
     "execution_count": 2,
     "metadata": {},
     "output_type": "execute_result"
    }
   ],
   "source": [
    "from sklearn import linear_model\n",
    "from sklearn.linear_model import Lasso\n",
    "from scipy.optimize import nnls\n",
    "\n",
    "def split(df):\n",
    "    g1 = df[df[\"ext_degree\"] == 1]\n",
    "    g1_a_non_zero = g1[g1[\"a_is_zero\"] == 0].copy()\n",
    "    g1_a_is_zero = g1[g1[\"a_is_zero\"] == 1].copy()\n",
    "    \n",
    "    g2_ext_2 = df[df[\"ext_degree\"] == 2]\n",
    "    g2_ext_2_a_non_zero = g2_ext_2[g2_ext_2[\"a_is_zero\"] == 0].copy()\n",
    "    g2_ext_2_a_is_zero = g2_ext_2[g2_ext_2[\"a_is_zero\"] == 1].copy()\n",
    "    \n",
    "    g2_ext_3 = df[df[\"ext_degree\"] == 3]\n",
    "    g2_ext_3_a_non_zero = g2_ext_3[g2_ext_3[\"a_is_zero\"] == 0].copy()\n",
    "    g2_ext_3_a_is_zero = g2_ext_3[g2_ext_3[\"a_is_zero\"] == 1].copy()\n",
    "    \n",
    "    \n",
    "    return (g1_a_non_zero, g1_a_is_zero, g2_ext_2_a_non_zero, g2_ext_2_a_is_zero, g2_ext_3_a_non_zero, g2_ext_3_a_is_zero)\n",
    "\n",
    "(g1_a_non_zero, g1_a_is_zero, g2_ext_2_a_non_zero, g2_ext_2_a_is_zero, g2_ext_3_a_non_zero, g2_ext_3_a_is_zero) = split(data)\n",
    "\n",
    "g1_a_non_zero.head()\n"
   ]
  },
  {
   "cell_type": "code",
   "execution_count": 3,
   "metadata": {},
   "outputs": [
    {
     "data": {
      "text/html": [
       "<div>\n",
       "<style scoped>\n",
       "    .dataframe tbody tr th:only-of-type {\n",
       "        vertical-align: middle;\n",
       "    }\n",
       "\n",
       "    .dataframe tbody tr th {\n",
       "        vertical-align: top;\n",
       "    }\n",
       "\n",
       "    .dataframe thead th {\n",
       "        text-align: right;\n",
       "    }\n",
       "</style>\n",
       "<table border=\"1\" class=\"dataframe\">\n",
       "  <thead>\n",
       "    <tr style=\"text-align: right;\">\n",
       "      <th></th>\n",
       "      <th>modulus_limbs</th>\n",
       "      <th>group_limbs</th>\n",
       "      <th>num_mul_pairs</th>\n",
       "      <th>a_is_zero</th>\n",
       "      <th>ext_degree</th>\n",
       "      <th>run_microseconds_add</th>\n",
       "      <th>run_microseconds_mul</th>\n",
       "      <th>run_microseconds_multiexp</th>\n",
       "    </tr>\n",
       "  </thead>\n",
       "  <tbody>\n",
       "    <tr>\n",
       "      <th>7</th>\n",
       "      <td>4</td>\n",
       "      <td>1</td>\n",
       "      <td>128</td>\n",
       "      <td>1</td>\n",
       "      <td>1</td>\n",
       "      <td>54</td>\n",
       "      <td>156</td>\n",
       "      <td>1916</td>\n",
       "    </tr>\n",
       "    <tr>\n",
       "      <th>8</th>\n",
       "      <td>4</td>\n",
       "      <td>1</td>\n",
       "      <td>64</td>\n",
       "      <td>1</td>\n",
       "      <td>1</td>\n",
       "      <td>67</td>\n",
       "      <td>164</td>\n",
       "      <td>1154</td>\n",
       "    </tr>\n",
       "    <tr>\n",
       "      <th>9</th>\n",
       "      <td>4</td>\n",
       "      <td>1</td>\n",
       "      <td>32</td>\n",
       "      <td>1</td>\n",
       "      <td>1</td>\n",
       "      <td>57</td>\n",
       "      <td>156</td>\n",
       "      <td>779</td>\n",
       "    </tr>\n",
       "    <tr>\n",
       "      <th>10</th>\n",
       "      <td>4</td>\n",
       "      <td>1</td>\n",
       "      <td>16</td>\n",
       "      <td>1</td>\n",
       "      <td>1</td>\n",
       "      <td>52</td>\n",
       "      <td>173</td>\n",
       "      <td>557</td>\n",
       "    </tr>\n",
       "    <tr>\n",
       "      <th>11</th>\n",
       "      <td>4</td>\n",
       "      <td>1</td>\n",
       "      <td>8</td>\n",
       "      <td>1</td>\n",
       "      <td>1</td>\n",
       "      <td>43</td>\n",
       "      <td>160</td>\n",
       "      <td>449</td>\n",
       "    </tr>\n",
       "  </tbody>\n",
       "</table>\n",
       "</div>"
      ],
      "text/plain": [
       "    modulus_limbs  group_limbs  num_mul_pairs  a_is_zero  ext_degree  \\\n",
       "7               4            1            128          1           1   \n",
       "8               4            1             64          1           1   \n",
       "9               4            1             32          1           1   \n",
       "10              4            1             16          1           1   \n",
       "11              4            1              8          1           1   \n",
       "\n",
       "    run_microseconds_add  run_microseconds_mul  run_microseconds_multiexp  \n",
       "7                     54                   156                       1916  \n",
       "8                     67                   164                       1154  \n",
       "9                     57                   156                        779  \n",
       "10                    52                   173                        557  \n",
       "11                    43                   160                        449  "
      ]
     },
     "execution_count": 3,
     "metadata": {},
     "output_type": "execute_result"
    }
   ],
   "source": [
    "def make_diffs(non_zero, is_zero):\n",
    "    diff = non_zero.copy();\n",
    "    diff[\"run_microseconds_add\"] -= is_zero[\"run_microseconds_add\"]\n",
    "    diff[\"run_microseconds_mul\"] -= is_zero[\"run_microseconds_mul\"]\n",
    "    diff[\"run_microseconds_multiexp\"] -= is_zero[\"run_microseconds_multiexp\"]\n",
    "    \n",
    "    return diff\n",
    "    \n",
    "diff = make_diffs(g1_a_non_zero, g1_a_is_zero)\n",
    "\n",
    "g1_a_is_zero.head()\n",
    "\n",
    "# diff.head()"
   ]
  },
  {
   "cell_type": "code",
   "execution_count": 4,
   "metadata": {},
   "outputs": [
    {
     "data": {
      "text/html": [
       "<div>\n",
       "<style scoped>\n",
       "    .dataframe tbody tr th:only-of-type {\n",
       "        vertical-align: middle;\n",
       "    }\n",
       "\n",
       "    .dataframe tbody tr th {\n",
       "        vertical-align: top;\n",
       "    }\n",
       "\n",
       "    .dataframe thead th {\n",
       "        text-align: right;\n",
       "    }\n",
       "</style>\n",
       "<table border=\"1\" class=\"dataframe\">\n",
       "  <thead>\n",
       "    <tr style=\"text-align: right;\">\n",
       "      <th></th>\n",
       "      <th>run_microseconds_add</th>\n",
       "      <th>gas_add</th>\n",
       "    </tr>\n",
       "    <tr>\n",
       "      <th>modulus_limbs</th>\n",
       "      <th></th>\n",
       "      <th></th>\n",
       "    </tr>\n",
       "  </thead>\n",
       "  <tbody>\n",
       "    <tr>\n",
       "      <th>4</th>\n",
       "      <td>55.741071</td>\n",
       "      <td>840</td>\n",
       "    </tr>\n",
       "    <tr>\n",
       "      <th>5</th>\n",
       "      <td>59.928571</td>\n",
       "      <td>900</td>\n",
       "    </tr>\n",
       "    <tr>\n",
       "      <th>6</th>\n",
       "      <td>74.095238</td>\n",
       "      <td>1125</td>\n",
       "    </tr>\n",
       "  </tbody>\n",
       "</table>\n",
       "</div>"
      ],
      "text/plain": [
       "               run_microseconds_add  gas_add\n",
       "modulus_limbs                               \n",
       "4                         55.741071      840\n",
       "5                         59.928571      900\n",
       "6                         74.095238     1125"
      ]
     },
     "execution_count": 4,
     "metadata": {},
     "output_type": "execute_result"
    }
   ],
   "source": [
    "def fit_add_and_mul(df):\n",
    "    addition = df[[\"modulus_limbs\",\"run_microseconds_add\"]].groupby(['modulus_limbs']).mean()\n",
    "    addition[\"gas_add\"] = addition[\"run_microseconds_add\"].apply(lambda x: gas_factor * math.ceil(x))\n",
    "#     addition = df[[\"modulus_limbs\",\"run_microseconds_add\"]].groupby(['modulus_limbs']).median()\n",
    "    multiplication = df[[\"modulus_limbs\",\"group_limbs\", \"run_microseconds_mul\"]].groupby(['modulus_limbs', 'group_limbs']).mean()\n",
    "#     multiplication = df[[\"modulus_limbs\",\"group_limbs\", \"run_microseconds_mul\"]].groupby(['modulus_limbs', 'group_limbs']).median()\n",
    "    \n",
    "    return (addition.copy(), multiplication.copy())\n",
    "\n",
    "(add_is_zero, m_is_zero) = fit_add_and_mul(g1_a_is_zero)\n",
    "(add_non_zero, m_non_zero) = fit_add_and_mul(g1_a_non_zero)\n",
    "\n",
    "add_is_zero.head(20)"
   ]
  },
  {
   "cell_type": "code",
   "execution_count": 5,
   "metadata": {},
   "outputs": [
    {
     "data": {
      "text/html": [
       "<div>\n",
       "<style scoped>\n",
       "    .dataframe tbody tr th:only-of-type {\n",
       "        vertical-align: middle;\n",
       "    }\n",
       "\n",
       "    .dataframe tbody tr th {\n",
       "        vertical-align: top;\n",
       "    }\n",
       "\n",
       "    .dataframe thead th {\n",
       "        text-align: right;\n",
       "    }\n",
       "</style>\n",
       "<table border=\"1\" class=\"dataframe\">\n",
       "  <thead>\n",
       "    <tr style=\"text-align: right;\">\n",
       "      <th></th>\n",
       "      <th>run_microseconds_add</th>\n",
       "      <th>gas_add</th>\n",
       "    </tr>\n",
       "    <tr>\n",
       "      <th>modulus_limbs</th>\n",
       "      <th></th>\n",
       "      <th></th>\n",
       "    </tr>\n",
       "  </thead>\n",
       "  <tbody>\n",
       "    <tr>\n",
       "      <th>4</th>\n",
       "      <td>58.205357</td>\n",
       "      <td>885</td>\n",
       "    </tr>\n",
       "    <tr>\n",
       "      <th>5</th>\n",
       "      <td>61.651786</td>\n",
       "      <td>930</td>\n",
       "    </tr>\n",
       "    <tr>\n",
       "      <th>6</th>\n",
       "      <td>67.333333</td>\n",
       "      <td>1020</td>\n",
       "    </tr>\n",
       "  </tbody>\n",
       "</table>\n",
       "</div>"
      ],
      "text/plain": [
       "               run_microseconds_add  gas_add\n",
       "modulus_limbs                               \n",
       "4                         58.205357      885\n",
       "5                         61.651786      930\n",
       "6                         67.333333     1020"
      ]
     },
     "execution_count": 5,
     "metadata": {},
     "output_type": "execute_result"
    }
   ],
   "source": [
    "add_non_zero.head(20)"
   ]
  },
  {
   "cell_type": "code",
   "execution_count": 6,
   "metadata": {},
   "outputs": [],
   "source": [
    "# m_is_zero.head(20)"
   ]
  },
  {
   "cell_type": "code",
   "execution_count": 7,
   "metadata": {},
   "outputs": [],
   "source": [
    "def fit_mul(df):\n",
    "    results = []\n",
    "    for limbs, g in df.groupby([\"modulus_limbs\"]):\n",
    "#         print(g.index)\n",
    "        g = g.copy()\n",
    "        g.reset_index(inplace=True) \n",
    "        model = Lasso(alpha=0.0001,precompute=True,max_iter=1000,\n",
    "            positive=True, random_state=9999, selection='random')\n",
    "        model.fit(g[\"group_limbs\"][:, np.newaxis], g[\"run_microseconds_mul\"][:, np.newaxis])\n",
    "\n",
    "        score = model.score(g[\"group_limbs\"][:, np.newaxis], g[\"run_microseconds_mul\"][:, np.newaxis])\n",
    "\n",
    "        print(\"R^2 = {}\".format(score))\n",
    "\n",
    "        slope = math.ceil(model.coef_[0]) * gas_factor;\n",
    "        intercept = math.ceil(model.intercept_[0]) * gas_factor;\n",
    "        \n",
    "        results.append((limbs, (slope, intercept)))\n",
    "    \n",
    "    return results"
   ]
  },
  {
   "cell_type": "code",
   "execution_count": 8,
   "metadata": {},
   "outputs": [
    {
     "name": "stdout",
     "output_type": "stream",
     "text": [
      "R^2 = 0.7870310619091309\n",
      "R^2 = 0.9922992443678759\n",
      "R^2 = 0.9449873602051204\n",
      "[(4, (690, 4095)), (5, (1575, 930)), (6, (1965, 525))]\n"
     ]
    }
   ],
   "source": [
    "results = fit_mul(m_is_zero)\n",
    "\n",
    "print(results)"
   ]
  },
  {
   "cell_type": "code",
   "execution_count": 9,
   "metadata": {},
   "outputs": [
    {
     "name": "stdout",
     "output_type": "stream",
     "text": [
      "R^2 = 0.8756400345684758\n",
      "R^2 = 0.9865431468909722\n",
      "R^2 = 0.9712371906609466\n",
      "[(4, (870, 3825)), (5, (1845, 255)), (6, (2115, 1020))]\n"
     ]
    }
   ],
   "source": [
    "results = fit_mul(m_non_zero)\n",
    "\n",
    "print(results)"
   ]
  },
  {
   "cell_type": "code",
   "execution_count": 10,
   "metadata": {},
   "outputs": [],
   "source": [
    "(add_is_zero, m_is_zero) = fit_add_and_mul(g2_ext_2_a_is_zero)\n",
    "(add_non_zero, m_non_zero) = fit_add_and_mul(g2_ext_2_a_non_zero)"
   ]
  },
  {
   "cell_type": "code",
   "execution_count": 11,
   "metadata": {},
   "outputs": [
    {
     "data": {
      "text/html": [
       "<div>\n",
       "<style scoped>\n",
       "    .dataframe tbody tr th:only-of-type {\n",
       "        vertical-align: middle;\n",
       "    }\n",
       "\n",
       "    .dataframe tbody tr th {\n",
       "        vertical-align: top;\n",
       "    }\n",
       "\n",
       "    .dataframe thead th {\n",
       "        text-align: right;\n",
       "    }\n",
       "</style>\n",
       "<table border=\"1\" class=\"dataframe\">\n",
       "  <thead>\n",
       "    <tr style=\"text-align: right;\">\n",
       "      <th></th>\n",
       "      <th>run_microseconds_add</th>\n",
       "      <th>gas_add</th>\n",
       "    </tr>\n",
       "    <tr>\n",
       "      <th>modulus_limbs</th>\n",
       "      <th></th>\n",
       "      <th></th>\n",
       "    </tr>\n",
       "  </thead>\n",
       "  <tbody>\n",
       "    <tr>\n",
       "      <th>4</th>\n",
       "      <td>177.044643</td>\n",
       "      <td>2670</td>\n",
       "    </tr>\n",
       "    <tr>\n",
       "      <th>5</th>\n",
       "      <td>206.562500</td>\n",
       "      <td>3105</td>\n",
       "    </tr>\n",
       "    <tr>\n",
       "      <th>6</th>\n",
       "      <td>237.583333</td>\n",
       "      <td>3570</td>\n",
       "    </tr>\n",
       "  </tbody>\n",
       "</table>\n",
       "</div>"
      ],
      "text/plain": [
       "               run_microseconds_add  gas_add\n",
       "modulus_limbs                               \n",
       "4                        177.044643     2670\n",
       "5                        206.562500     3105\n",
       "6                        237.583333     3570"
      ]
     },
     "execution_count": 11,
     "metadata": {},
     "output_type": "execute_result"
    }
   ],
   "source": [
    "add_is_zero.head(20)"
   ]
  },
  {
   "cell_type": "code",
   "execution_count": 12,
   "metadata": {},
   "outputs": [
    {
     "data": {
      "text/html": [
       "<div>\n",
       "<style scoped>\n",
       "    .dataframe tbody tr th:only-of-type {\n",
       "        vertical-align: middle;\n",
       "    }\n",
       "\n",
       "    .dataframe tbody tr th {\n",
       "        vertical-align: top;\n",
       "    }\n",
       "\n",
       "    .dataframe thead th {\n",
       "        text-align: right;\n",
       "    }\n",
       "</style>\n",
       "<table border=\"1\" class=\"dataframe\">\n",
       "  <thead>\n",
       "    <tr style=\"text-align: right;\">\n",
       "      <th></th>\n",
       "      <th>run_microseconds_add</th>\n",
       "      <th>gas_add</th>\n",
       "    </tr>\n",
       "    <tr>\n",
       "      <th>modulus_limbs</th>\n",
       "      <th></th>\n",
       "      <th></th>\n",
       "    </tr>\n",
       "  </thead>\n",
       "  <tbody>\n",
       "    <tr>\n",
       "      <th>4</th>\n",
       "      <td>163.714286</td>\n",
       "      <td>2460</td>\n",
       "    </tr>\n",
       "    <tr>\n",
       "      <th>5</th>\n",
       "      <td>210.089286</td>\n",
       "      <td>3165</td>\n",
       "    </tr>\n",
       "    <tr>\n",
       "      <th>6</th>\n",
       "      <td>240.678571</td>\n",
       "      <td>3615</td>\n",
       "    </tr>\n",
       "  </tbody>\n",
       "</table>\n",
       "</div>"
      ],
      "text/plain": [
       "               run_microseconds_add  gas_add\n",
       "modulus_limbs                               \n",
       "4                        163.714286     2460\n",
       "5                        210.089286     3165\n",
       "6                        240.678571     3615"
      ]
     },
     "execution_count": 12,
     "metadata": {},
     "output_type": "execute_result"
    }
   ],
   "source": [
    "add_non_zero.head(20)"
   ]
  },
  {
   "cell_type": "code",
   "execution_count": 13,
   "metadata": {},
   "outputs": [
    {
     "name": "stdout",
     "output_type": "stream",
     "text": [
      "R^2 = 0.9074077160640172\n",
      "R^2 = 0.9841701189832694\n",
      "R^2 = 0.9705921687055733\n",
      "[(4, (2910, 11565)), (5, (5835, 1215)), (6, (7245, 1740))]\n"
     ]
    }
   ],
   "source": [
    "results = fit_mul(m_is_zero)\n",
    "\n",
    "print(results)"
   ]
  },
  {
   "cell_type": "code",
   "execution_count": 14,
   "metadata": {},
   "outputs": [
    {
     "name": "stdout",
     "output_type": "stream",
     "text": [
      "R^2 = 0.8715589773647988\n",
      "R^2 = 0.9811950569327342\n",
      "R^2 = 0.9674323159025369\n",
      "[(4, (3345, 12825)), (5, (6675, 3210)), (6, (8325, 1980))]\n"
     ]
    }
   ],
   "source": [
    "results = fit_mul(m_non_zero)\n",
    "\n",
    "print(results)"
   ]
  },
  {
   "cell_type": "code",
   "execution_count": 15,
   "metadata": {},
   "outputs": [],
   "source": [
    "(add_is_zero, m_is_zero) = fit_add_and_mul(g2_ext_3_a_is_zero)\n",
    "(add_non_zero, m_non_zero) = fit_add_and_mul(g2_ext_3_a_non_zero)"
   ]
  },
  {
   "cell_type": "code",
   "execution_count": 16,
   "metadata": {},
   "outputs": [
    {
     "data": {
      "text/html": [
       "<div>\n",
       "<style scoped>\n",
       "    .dataframe tbody tr th:only-of-type {\n",
       "        vertical-align: middle;\n",
       "    }\n",
       "\n",
       "    .dataframe tbody tr th {\n",
       "        vertical-align: top;\n",
       "    }\n",
       "\n",
       "    .dataframe thead th {\n",
       "        text-align: right;\n",
       "    }\n",
       "</style>\n",
       "<table border=\"1\" class=\"dataframe\">\n",
       "  <thead>\n",
       "    <tr style=\"text-align: right;\">\n",
       "      <th></th>\n",
       "      <th>run_microseconds_add</th>\n",
       "      <th>gas_add</th>\n",
       "    </tr>\n",
       "    <tr>\n",
       "      <th>modulus_limbs</th>\n",
       "      <th></th>\n",
       "      <th></th>\n",
       "    </tr>\n",
       "  </thead>\n",
       "  <tbody>\n",
       "    <tr>\n",
       "      <th>4</th>\n",
       "      <td>144.625000</td>\n",
       "      <td>2175</td>\n",
       "    </tr>\n",
       "    <tr>\n",
       "      <th>5</th>\n",
       "      <td>170.678571</td>\n",
       "      <td>2565</td>\n",
       "    </tr>\n",
       "    <tr>\n",
       "      <th>6</th>\n",
       "      <td>218.035714</td>\n",
       "      <td>3285</td>\n",
       "    </tr>\n",
       "  </tbody>\n",
       "</table>\n",
       "</div>"
      ],
      "text/plain": [
       "               run_microseconds_add  gas_add\n",
       "modulus_limbs                               \n",
       "4                        144.625000     2175\n",
       "5                        170.678571     2565\n",
       "6                        218.035714     3285"
      ]
     },
     "execution_count": 16,
     "metadata": {},
     "output_type": "execute_result"
    }
   ],
   "source": [
    "add_is_zero.head(20)"
   ]
  },
  {
   "cell_type": "code",
   "execution_count": 17,
   "metadata": {},
   "outputs": [
    {
     "data": {
      "text/html": [
       "<div>\n",
       "<style scoped>\n",
       "    .dataframe tbody tr th:only-of-type {\n",
       "        vertical-align: middle;\n",
       "    }\n",
       "\n",
       "    .dataframe tbody tr th {\n",
       "        vertical-align: top;\n",
       "    }\n",
       "\n",
       "    .dataframe thead th {\n",
       "        text-align: right;\n",
       "    }\n",
       "</style>\n",
       "<table border=\"1\" class=\"dataframe\">\n",
       "  <thead>\n",
       "    <tr style=\"text-align: right;\">\n",
       "      <th></th>\n",
       "      <th>run_microseconds_add</th>\n",
       "      <th>gas_add</th>\n",
       "    </tr>\n",
       "    <tr>\n",
       "      <th>modulus_limbs</th>\n",
       "      <th></th>\n",
       "      <th></th>\n",
       "    </tr>\n",
       "  </thead>\n",
       "  <tbody>\n",
       "    <tr>\n",
       "      <th>4</th>\n",
       "      <td>147.348214</td>\n",
       "      <td>2220</td>\n",
       "    </tr>\n",
       "    <tr>\n",
       "      <th>5</th>\n",
       "      <td>191.491071</td>\n",
       "      <td>2880</td>\n",
       "    </tr>\n",
       "    <tr>\n",
       "      <th>6</th>\n",
       "      <td>223.500000</td>\n",
       "      <td>3360</td>\n",
       "    </tr>\n",
       "  </tbody>\n",
       "</table>\n",
       "</div>"
      ],
      "text/plain": [
       "               run_microseconds_add  gas_add\n",
       "modulus_limbs                               \n",
       "4                        147.348214     2220\n",
       "5                        191.491071     2880\n",
       "6                        223.500000     3360"
      ]
     },
     "execution_count": 17,
     "metadata": {},
     "output_type": "execute_result"
    }
   ],
   "source": [
    "add_non_zero.head(20)"
   ]
  },
  {
   "cell_type": "code",
   "execution_count": 18,
   "metadata": {},
   "outputs": [
    {
     "name": "stdout",
     "output_type": "stream",
     "text": [
      "R^2 = 0.8754362438121857\n",
      "R^2 = 0.9783092374406274\n",
      "R^2 = 0.9845932214359416\n",
      "[(4, (5640, 17175)), (5, (10290, 2415)), (6, (13470, 2595))]\n"
     ]
    }
   ],
   "source": [
    "results = fit_mul(m_is_zero)\n",
    "\n",
    "print(results)"
   ]
  },
  {
   "cell_type": "code",
   "execution_count": 19,
   "metadata": {},
   "outputs": [
    {
     "name": "stdout",
     "output_type": "stream",
     "text": [
      "R^2 = 0.8805347424606025\n",
      "R^2 = 0.980997372984332\n",
      "R^2 = 0.97233718848938\n",
      "[(4, (6825, 16845)), (5, (11715, 3210)), (6, (15240, -1710))]\n"
     ]
    }
   ],
   "source": [
    "results = fit_mul(m_non_zero)\n",
    "\n",
    "print(results)"
   ]
  },
  {
   "cell_type": "code",
   "execution_count": null,
   "metadata": {},
   "outputs": [],
   "source": []
  },
  {
   "cell_type": "code",
   "execution_count": null,
   "metadata": {},
   "outputs": [],
   "source": []
  }
 ],
 "metadata": {
  "kernelspec": {
   "display_name": "Python 3",
   "language": "python",
   "name": "python3"
  },
  "language_info": {
   "codemirror_mode": {
    "name": "ipython",
    "version": 3
   },
   "file_extension": ".py",
   "mimetype": "text/x-python",
   "name": "python",
   "nbconvert_exporter": "python",
   "pygments_lexer": "ipython3",
   "version": "3.7.3"
  }
 },
 "nbformat": 4,
 "nbformat_minor": 2
}
